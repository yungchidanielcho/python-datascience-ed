{
 "cells": [
  {
   "cell_type": "markdown",
   "source": [
    "# Open in binder\n",
    "[![Binder](https://mybinder.org/badge_logo.svg)](https://mybinder.org/v2/gh/yungchidanielcho/python-datascience-ed/HEAD?labpath=%2Fcorning_merck_workshop%2Fnotebooks%2Fintermediate_python.ipynb)"
   ],
   "metadata": {
    "collapsed": false
   }
  },
  {
   "cell_type": "markdown",
   "source": [
    "## Functions\n",
    "* Functions are _first class objects_\n",
    "* Functions take both positional and keyword arguments\n"
   ],
   "metadata": {
    "collapsed": false
   }
  },
  {
   "cell_type": "code",
   "execution_count": null,
   "outputs": [],
   "source": [
    "def f(x):\n",
    "    return x ** 2 + 5\n",
    "\n",
    "# positional argument\n",
    "f(3)"
   ],
   "metadata": {
    "collapsed": false,
    "is_executing": true
   }
  },
  {
   "cell_type": "code",
   "execution_count": null,
   "outputs": [],
   "source": [
    "# keyword argument\n",
    "f(x=3)"
   ],
   "metadata": {
    "collapsed": false
   }
  },
  {
   "cell_type": "code",
   "execution_count": null,
   "outputs": [],
   "source": [
    "# default argument\n",
    "def f(x, y=1):\n",
    "    return x ** y"
   ],
   "metadata": {
    "collapsed": false
   }
  },
  {
   "cell_type": "code",
   "execution_count": null,
   "outputs": [],
   "source": [
    "def f(x: float, y: int =1) -> float:\n",
    "    \"\"\"This function returns x to the power of y\n",
    "\n",
    "    Longer description here.\n",
    "\n",
    "    Args:\n",
    "     x: description\n",
    "     y: description\n",
    "\n",
    "    Returns:\n",
    "        x to the power of y\n",
    "\n",
    "    Examples:\n",
    "    >>> f(2,2)\n",
    "    4\n",
    "\n",
    "    Raises:\n",
    "    \"\"\"\n",
    "    return x ** y"
   ],
   "metadata": {
    "collapsed": false,
    "is_executing": true
   }
  },
  {
   "cell_type": "markdown",
   "source": [
    "# type hinting and docstring\n",
    "[google docstring style guide](https://google.github.io/styleguide/pyguide.html#383-functions-and-methods)"
   ],
   "metadata": {
    "collapsed": false
   }
  },
  {
   "cell_type": "markdown",
   "source": [
    "# Readability counts\n",
    "\n",
    "- code are read more often than writing\n",
    "- we read when\n",
    "    - fix bug\n",
    "    - add features\n",
    "    - write tests\n",
    "    - use other people's functions\n",
    "- we write for\n",
    "    - our future selves\n",
    "    - our peers\n",
    "    - our future peers\n",
    "    - our users\n",
    "    - our successors\n",
    "- easy to read code contributes to python's success\n",
    "    - easier to learn\n",
    "    - easier to add new features\n",
    "    - easier to spot mistakes\n",
    "    - easier to hire for mangers\n",
    "\n",
    "Python's effort to improve readability\n",
    "\n",
    "https://peps.python.org/pep-0008/\n",
    "\n",
    "Tools to check and improve format\n",
    "- checking tool: flake8\n",
    "- formating tool: black\n",
    "\n",
    "Zen of python\n",
    "\n",
    "https://peps.python.org/pep-0020/"
   ],
   "metadata": {
    "collapsed": false
   }
  },
  {
   "cell_type": "markdown",
   "source": [
    "## Scope"
   ],
   "metadata": {
    "collapsed": false
   }
  },
  {
   "cell_type": "code",
   "execution_count": null,
   "metadata": {
    "collapsed": true,
    "pycharm": {
     "name": "#%%\n"
    }
   },
   "outputs": [],
   "source": [
    "bias = 5\n",
    "exponent = 2\n",
    "\n",
    "# Variables in the context of the function definition can be used in the function.\n",
    "# They are added to the function closure.\n",
    "\n",
    "def g(x):\n",
    "    return x ** exponent + bias\n",
    "\n",
    "g(3)"
   ]
  },
  {
   "cell_type": "code",
   "execution_count": null,
   "outputs": [],
   "source": [
    "bias = 5\n",
    "\n",
    "def g(x):\n",
    "    # The \"global\" keyword places a variable in the global scope.\n",
    "    global bias\n",
    "    bias = bias + x\n",
    "\n",
    "g(3)\n",
    "bias"
   ],
   "metadata": {
    "collapsed": false,
    "pycharm": {
     "name": "#%%\n"
    }
   }
  },
  {
   "cell_type": "code",
   "execution_count": 1,
   "outputs": [
    {
     "data": {
      "text/plain": "15"
     },
     "execution_count": 1,
     "metadata": {},
     "output_type": "execute_result"
    }
   ],
   "source": [
    "x = 5\n",
    "\n",
    "def f(x):\n",
    "    x = x + 10\n",
    "    return x\n",
    "\n",
    "def operate_on_x(operation):\n",
    "    return operation(x)\n",
    "\n",
    "operate_on_x(f)"
   ],
   "metadata": {
    "collapsed": false,
    "pycharm": {
     "name": "#%%\n"
    }
   }
  },
  {
   "cell_type": "code",
   "execution_count": null,
   "outputs": [],
   "source": [
    "x = 7\n",
    "operate_on_x(f)"
   ],
   "metadata": {
    "collapsed": false,
    "pycharm": {
     "name": "#%%\n"
    }
   }
  },
  {
   "cell_type": "markdown",
   "source": [
    "* `lambda` generates anonymous functions"
   ],
   "metadata": {
    "collapsed": false,
    "pycharm": {
     "name": "#%% md\n"
    }
   }
  },
  {
   "cell_type": "code",
   "execution_count": 2,
   "outputs": [
    {
     "data": {
      "text/plain": "0"
     },
     "execution_count": 2,
     "metadata": {},
     "output_type": "execute_result"
    }
   ],
   "source": [
    "operate_on_x(lambda x: x - 5)"
   ],
   "metadata": {
    "collapsed": false,
    "pycharm": {
     "name": "#%%\n"
    }
   }
  },
  {
   "cell_type": "code",
   "execution_count": 3,
   "outputs": [
    {
     "data": {
      "text/plain": "6"
     },
     "execution_count": 3,
     "metadata": {},
     "output_type": "execute_result"
    }
   ],
   "source": [
    "f = lambda x, g, h: g(h(x))\n",
    "f(2, lambda x: x + 2, lambda x: 2 * x)"
   ],
   "metadata": {
    "collapsed": false,
    "pycharm": {
     "name": "#%%\n"
    }
   }
  },
  {
   "cell_type": "code",
   "execution_count": 4,
   "outputs": [
    {
     "name": "stdout",
     "output_type": "stream",
     "text": [
      "6\n",
      "8\n"
     ]
    }
   ],
   "source": [
    "def composition(left, right):\n",
    "    return lambda x: left(right(x))\n",
    "\n",
    "add_2 = lambda x: x + 2\n",
    "double = lambda x: 2 * x\n",
    "\n",
    "f = composition(add_2, double)\n",
    "print(f(2))\n",
    "\n",
    "g = composition(right=add_2, left=double)\n",
    "print(g(2))"
   ],
   "metadata": {
    "collapsed": false,
    "pycharm": {
     "name": "#%%\n"
    }
   }
  },
  {
   "cell_type": "code",
   "execution_count": null,
   "outputs": [],
   "source": [],
   "metadata": {
    "collapsed": false,
    "pycharm": {
     "name": "#%%\n"
    }
   }
  }
 ],
 "metadata": {
  "kernelspec": {
   "display_name": "Python 3",
   "language": "python",
   "name": "python3"
  },
  "language_info": {
   "codemirror_mode": {
    "name": "ipython",
    "version": 2
   },
   "file_extension": ".py",
   "mimetype": "text/x-python",
   "name": "python",
   "nbconvert_exporter": "python",
   "pygments_lexer": "ipython2",
   "version": "2.7.6"
  }
 },
 "nbformat": 4,
 "nbformat_minor": 0
}
