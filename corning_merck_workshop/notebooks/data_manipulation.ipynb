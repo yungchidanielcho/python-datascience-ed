{
 "cells": [
  {
   "cell_type": "markdown",
   "id": "0182d44b",
   "metadata": {
    "pycharm": {
     "name": "#%% md\n"
    }
   },
   "source": [
    "Open this notebook in binder\n",
    "[![Binder](https://mybinder.org/badge_logo.svg)](https://mybinder.org/v2/gh/yungchidanielcho/python-datascience-ed/blob/master/corning_merck_workshop/notebooks/data_manipulation.ipynb/HEAD)"
   ]
  },
  {
   "cell_type": "markdown",
   "id": "7804f578",
   "metadata": {
    "pycharm": {
     "name": "#%% md\n"
    }
   },
   "source": [
    "# Readability counts\n",
    "\n",
    "- code are read more often than writing\n",
    "- we read when\n",
    "    - fix bug\n",
    "    - add features\n",
    "    - write tests\n",
    "    - use other people's functions\n",
    "- we write for\n",
    "    - our future selves\n",
    "    - our peers\n",
    "    - our future peers\n",
    "    - our users\n",
    "    - our successors\n",
    "- easy to read code contributes to python's success\n",
    "    - easier to learn\n",
    "    - easier to add new features\n",
    "    - easier to spot mistakes\n",
    "    - easier to hire for mangers\n",
    "\n",
    "Python's effort to improve readability\n",
    "\n",
    "https://peps.python.org/pep-0008/\n",
    "\n",
    "Tools to check and improve format\n",
    "- checking tool: flake8\n",
    "- formating tool: black\n",
    "\n",
    "Zen of python\n",
    "\n",
    "https://peps.python.org/pep-0020/\n"
   ]
  },
  {
   "cell_type": "markdown",
   "id": "1e8bf7ce",
   "metadata": {
    "pycharm": {
     "name": "#%% md\n"
    }
   },
   "source": [
    "# Text file"
   ]
  },
  {
   "cell_type": "code",
   "execution_count": null,
   "id": "8182f81e",
   "metadata": {
    "pycharm": {
     "name": "#%%\n"
    }
   },
   "outputs": [],
   "source": [
    "list_of_lines = [\"hi\\n\",\"how are you?\\n\"]"
   ]
  },
  {
   "cell_type": "code",
   "execution_count": null,
   "id": "6b26541f",
   "metadata": {
    "pycharm": {
     "name": "#%%\n"
    }
   },
   "outputs": [],
   "source": [
    "block_of_text = \"I'm a paragraph\\nSecond paragraph.\"\n",
    "print(block_of_text)"
   ]
  },
  {
   "cell_type": "code",
   "execution_count": null,
   "id": "dfc7d4ae",
   "metadata": {
    "pycharm": {
     "name": "#%%\n"
    }
   },
   "outputs": [],
   "source": [
    "with open(\"text.txt\", mode='w') as f:\n",
    "    f.writelines(list_of_lines)\n",
    "    f.write(block_of_text)\n",
    "\n",
    "\n",
    "with open(\"text.txt\", mode='r') as f:\n",
    "    read_text = f.read()\n",
    "\n",
    "print(read_text)"
   ]
  },
  {
   "cell_type": "code",
   "execution_count": null,
   "id": "293d9556",
   "metadata": {
    "pycharm": {
     "name": "#%%\n"
    }
   },
   "outputs": [],
   "source": [
    "with open(\"text.txt\", mode='r') as f:\n",
    "    read_text_in_list = f.readlines()\n",
    "read_text_in_list"
   ]
  },
  {
   "cell_type": "markdown",
   "id": "fb991164",
   "metadata": {
    "pycharm": {
     "name": "#%% md\n"
    }
   },
   "source": [
    "# Regular expression\n",
    "- capture patterns in string\n",
    "For example:\n",
    "- phone number\n",
    "- address parsing\n",
    "- capture words that has capital letters\n",
    "online tester example: https://regexr.com/"
   ]
  },
  {
   "cell_type": "code",
   "execution_count": null,
   "id": "ce5cf1f7",
   "metadata": {
    "pycharm": {
     "name": "#%%\n"
    }
   },
   "outputs": [],
   "source": [
    "import re\n",
    "p = re.compile(r'\\d+')\n",
    "p.findall('12 drummers drumming, 11 pipers piping, 10 lords a-leaping')"
   ]
  },
  {
   "cell_type": "markdown",
   "id": "0630b910-f3cf-4e0e-a4e9-91d0808e0cd8",
   "metadata": {
    "pycharm": {
     "name": "#%% md\n"
    }
   },
   "source": [
    "## JSON"
   ]
  },
  {
   "cell_type": "code",
   "execution_count": null,
   "id": "5060d339-85c7-42dd-8052-9fdb1c8ed53d",
   "metadata": {
    "pycharm": {
     "name": "#%%\n"
    }
   },
   "outputs": [],
   "source": [
    "import json\n",
    "value = {'a': True, 'b': 3}\n",
    "value"
   ]
  },
  {
   "cell_type": "code",
   "execution_count": null,
   "id": "6163f0e3-3159-4053-8e32-a15c4c699e27",
   "metadata": {
    "pycharm": {
     "name": "#%%\n"
    }
   },
   "outputs": [],
   "source": [
    "encoded = json.dumps(value)\n",
    "encoded"
   ]
  },
  {
   "cell_type": "code",
   "execution_count": null,
   "id": "69944fcc-3eac-4b81-8457-d508049a0470",
   "metadata": {
    "pycharm": {
     "name": "#%%\n"
    }
   },
   "outputs": [],
   "source": [
    "decoded = json.loads(encoded)\n",
    "decoded"
   ]
  },
  {
   "cell_type": "code",
   "execution_count": null,
   "id": "eb0b6f4c-d263-41e9-8f33-b751e3839901",
   "metadata": {
    "pycharm": {
     "name": "#%%\n"
    }
   },
   "outputs": [],
   "source": [
    "decoded == value"
   ]
  },
  {
   "cell_type": "markdown",
   "id": "2f8442e9-d8f7-426a-8200-6d8780276456",
   "metadata": {
    "pycharm": {
     "name": "#%% md\n"
    }
   },
   "source": [
    "## NumPy\n",
    "* Written in C, exposed through Python\n",
    "* Extremely fast and memory efficient for numeric processing\n",
    "* Primary feature is the ndarray - a machine-typed n-dimensional array"
   ]
  },
  {
   "cell_type": "code",
   "execution_count": null,
   "id": "60728618-b126-4776-a447-e8445ebbae29",
   "metadata": {
    "pycharm": {
     "name": "#%%\n"
    }
   },
   "outputs": [],
   "source": [
    "import numpy as np\n",
    "x = np.array([1, 2, 3, 4])\n",
    "x"
   ]
  },
  {
   "cell_type": "code",
   "execution_count": null,
   "id": "6f505a1d-7258-4170-995d-f95908c98216",
   "metadata": {
    "pycharm": {
     "name": "#%%\n"
    }
   },
   "outputs": [],
   "source": [
    "print(\n",
    "    x.sum(),\n",
    "    x.mean()\n",
    ")"
   ]
  },
  {
   "cell_type": "code",
   "execution_count": null,
   "id": "df018072-e065-44ec-b323-27801bc948fc",
   "metadata": {
    "pycharm": {
     "name": "#%%\n"
    }
   },
   "outputs": [],
   "source": [
    "print(\n",
    "    x * 2, # arithmetic on ndarrays is element-wise\n",
    "    x + 2,\n",
    "    x > 2 # same for boolean expressions\n",
    ")"
   ]
  },
  {
   "cell_type": "code",
   "execution_count": null,
   "id": "ee3868e3-8fda-417b-8adf-a4ec2b8ce34a",
   "metadata": {
    "pycharm": {
     "name": "#%%\n"
    }
   },
   "outputs": [],
   "source": [
    "x = np.array([1, 2, 3])\n",
    "y = np.array([4, 5, 6])\n",
    "\n",
    "x * y"
   ]
  },
  {
   "cell_type": "code",
   "execution_count": null,
   "id": "68c838bc-20a5-4c50-8cf4-7c4db811313d",
   "metadata": {
    "pycharm": {
     "name": "#%%\n"
    }
   },
   "outputs": [],
   "source": [
    "np.dot(x, y)"
   ]
  },
  {
   "cell_type": "code",
   "execution_count": null,
   "id": "9c68684c-2ed1-424e-8e27-52bf289265c0",
   "metadata": {
    "pycharm": {
     "name": "#%%\n"
    }
   },
   "outputs": [],
   "source": [
    "# Advanced indexing with integer or boolean lists / arrays\n",
    "print (\n",
    "    x[[1, 2]],\n",
    "    x[[False, True, True, False]],\n",
    "    x[x > 2]\n",
    ")"
   ]
  },
  {
   "cell_type": "code",
   "execution_count": null,
   "id": "8b1687dd-faf2-4ef4-bfd0-bc6ee62a6ea4",
   "metadata": {
    "pycharm": {
     "name": "#%%\n"
    }
   },
   "outputs": [],
   "source": [
    "# Multidimensional array\n",
    "\n",
    "mx = np.array([[0, 1, 2, 3, 4], [5, 6, 7, 8, 9]])\n",
    "mx.shape"
   ]
  },
  {
   "cell_type": "code",
   "execution_count": null,
   "id": "9eaecaec-8d61-4e15-be33-386256373309",
   "metadata": {
    "pycharm": {
     "name": "#%%\n"
    }
   },
   "outputs": [],
   "source": [
    "# Array slicing works for each dimension\n",
    "\n",
    "for nda in [\n",
    "    mx[0, 0],\n",
    "    mx[:, 0],\n",
    "    mx[:, 1:3],\n",
    "    mx[:, 1:],\n",
    "    mx[:, :3],\n",
    "]:\n",
    "    print(nda)"
   ]
  },
  {
   "cell_type": "code",
   "execution_count": null,
   "id": "e8184a0a-e5f7-465b-9524-1a66fa52849b",
   "metadata": {
    "pycharm": {
     "name": "#%%\n"
    }
   },
   "outputs": [],
   "source": [
    "# np.arange() works like the Python builtin range()\n",
    "\n",
    "np.arange(10).reshape((2, 5))"
   ]
  },
  {
   "cell_type": "code",
   "execution_count": null,
   "id": "946bcc9f-011a-453a-b6de-fb293ca649e7",
   "metadata": {
    "pycharm": {
     "name": "#%%\n"
    }
   },
   "outputs": [],
   "source": [
    "np.zeros((2, 5))"
   ]
  },
  {
   "cell_type": "code",
   "execution_count": null,
   "id": "944824dd-e80a-43ed-ae45-c68067b475fb",
   "metadata": {
    "pycharm": {
     "name": "#%%\n"
    }
   },
   "outputs": [],
   "source": [
    "np.ones((2, 5))"
   ]
  },
  {
   "cell_type": "markdown",
   "id": "4c484638-3b7e-44ec-a0e2-7885728ed7c7",
   "metadata": {
    "pycharm": {
     "name": "#%% md\n"
    }
   },
   "source": [
    "## Pandas\n",
    "* Also written in C and exposed in Python\n",
    "* Extends NumPy\n",
    "* Data frames / series, transformations, and file handling"
   ]
  },
  {
   "cell_type": "code",
   "execution_count": null,
   "id": "6a168019",
   "metadata": {
    "pycharm": {
     "name": "#%%\n"
    }
   },
   "outputs": [],
   "source": [
    "!pip install palmerpenguins pandas matplotlib seaborn"
   ]
  },
  {
   "cell_type": "code",
   "execution_count": null,
   "id": "e8d17da5-09ee-4f5a-872b-ad94ef72753e",
   "metadata": {
    "pycharm": {
     "name": "#%%\n"
    }
   },
   "outputs": [],
   "source": [
    "import pandas as pd\n",
    "\n",
    "# Valid URL schemes include http, ftp, s3, gs, and file.\n",
    "df = pd.read_csv('file://localhost/home/name/work/penguins.csv')\n",
    "df = pd.read_excel('file://localhost/home/name/work/penguins.xls')"
   ]
  },
  {
   "cell_type": "code",
   "execution_count": null,
   "id": "2944783c",
   "metadata": {
    "pycharm": {
     "name": "#%%\n"
    }
   },
   "outputs": [],
   "source": [
    "path = 'path/to/file'\n",
    "df.to_csv(path)\n",
    "df.to_excel(path)"
   ]
  },
  {
   "cell_type": "code",
   "execution_count": null,
   "id": "348f3fb9",
   "metadata": {
    "pycharm": {
     "name": "#%%\n"
    }
   },
   "outputs": [],
   "source": [
    "from palmerpenguins import load_penguins\n",
    "df = load_penguins()\n",
    "df"
   ]
  },
  {
   "cell_type": "code",
   "execution_count": null,
   "id": "112c1344-13db-45cf-a7da-88a29d20b1f3",
   "metadata": {
    "pycharm": {
     "name": "#%%\n"
    }
   },
   "outputs": [],
   "source": [
    "# Columns can be accessed as series. Series behave like NumPy arrays.\n",
    "# Dataframe[] notation select the lower dimension, which is the columns\n",
    "# So for Dataframe with\n",
    "df['bill_length_mm']"
   ]
  },
  {
   "cell_type": "code",
   "execution_count": null,
   "id": "91ba51ea-c20c-46c9-a031-e593b0e421e1",
   "metadata": {
    "pycharm": {
     "name": "#%%\n"
    }
   },
   "outputs": [],
   "source": [
    "df['bill_length_mm'].describe()"
   ]
  },
  {
   "cell_type": "code",
   "execution_count": null,
   "id": "7351d0f5-0b2d-4482-8fcd-7472595cd0f5",
   "metadata": {
    "pycharm": {
     "name": "#%%\n"
    }
   },
   "outputs": [],
   "source": [
    "df['species'] == 'Adelie'"
   ]
  },
  {
   "cell_type": "code",
   "execution_count": null,
   "id": "8d0b1948-c288-4a01-8290-55231db0e9d6",
   "metadata": {
    "pycharm": {
     "name": "#%%\n"
    }
   },
   "outputs": [],
   "source": [
    "# slicing by both rows and column use .loc\n",
    "#.loc use [row, column]\n",
    "\n",
    "df.loc[df['species'] == 'Adelie', 'bill_length_mm'].describe()"
   ]
  },
  {
   "cell_type": "code",
   "execution_count": null,
   "id": "a0c63a0b-7daf-450a-b09b-3d725d5f740c",
   "metadata": {
    "pycharm": {
     "name": "#%%\n"
    }
   },
   "outputs": [],
   "source": [
    "df['bill_diff'] = df['bill_length_mm'] - df['bill_depth_mm']\n",
    "df"
   ]
  },
  {
   "cell_type": "code",
   "execution_count": null,
   "id": "7b0898e8-9720-47a7-908d-7c62d8b37950",
   "metadata": {
    "pycharm": {
     "name": "#%%\n"
    }
   },
   "outputs": [],
   "source": [
    "df[['species', 'bill_length_mm', 'bill_depth_mm']].groupby('species').mean()"
   ]
  },
  {
   "cell_type": "markdown",
   "id": "bf2e4201-29f9-41bd-ba6e-b6a15096b7f3",
   "metadata": {
    "pycharm": {
     "name": "#%% md\n"
    }
   },
   "source": [
    "##  matplotlib\n",
    "\n",
    "* Python's dominant 2D and 3D visualization platform\n",
    "* Flexible\n",
    "* Fairly accessible to new users, extremely powerful for pro users"
   ]
  },
  {
   "cell_type": "code",
   "execution_count": null,
   "id": "78d4d6b9-1799-4eb6-b189-6e26c6a26784",
   "metadata": {
    "pycharm": {
     "name": "#%%\n"
    }
   },
   "outputs": [],
   "source": [
    "import matplotlib as mpl\n",
    "import matplotlib.pyplot as plt\n",
    "\n",
    "plt.hist(df['bill_length_mm'])\n",
    "plt.show()"
   ]
  },
  {
   "cell_type": "code",
   "execution_count": null,
   "id": "413bea1d-2f89-4895-aef8-1723e763871e",
   "metadata": {
    "pycharm": {
     "name": "#%%\n"
    }
   },
   "outputs": [],
   "source": [
    "species = df['species'].astype('category').cat\n",
    "\n",
    "for s in species.categories:\n",
    "    plt.title(s)\n",
    "    plt.hist(df['bill_length_mm'][df['species'] == s])\n",
    "    plt.show()"
   ]
  },
  {
   "cell_type": "code",
   "execution_count": null,
   "id": "553c5d8b-e5d5-40aa-bb44-9de6a60bcebf",
   "metadata": {
    "pycharm": {
     "name": "#%%\n"
    }
   },
   "outputs": [],
   "source": [
    "plt.scatter(df['bill_length_mm'], df['bill_depth_mm'])\n",
    "plt.show()"
   ]
  },
  {
   "cell_type": "code",
   "execution_count": null,
   "id": "190fc07d-e47f-4d1f-9f05-4dd44d73eab5",
   "metadata": {
    "pycharm": {
     "name": "#%%\n"
    }
   },
   "outputs": [],
   "source": [
    "plt.title('Bill Shape')\n",
    "plt.xlabel('Bill length (mm)')\n",
    "plt.ylabel('Bill depth (mm)')\n",
    "\n",
    "scatter = plt.scatter(\n",
    "    df['bill_length_mm'], \n",
    "    df['bill_depth_mm'], \n",
    "    c=species.codes\n",
    ")\n",
    "\n",
    "for i, label in enumerate(species.categories):\n",
    "    plt.plot([], color=scatter.cmap(scatter.norm(i)), label=label)\n",
    "\n",
    "plt.legend()\n",
    "plt.grid(b=True, which='both', color='grey', linestyle='--')\n",
    "plt.axis('equal')\n",
    "\n",
    "plt.show()\n",
    "plt.close()"
   ]
  },
  {
   "cell_type": "code",
   "execution_count": null,
   "id": "636fbb10-9e94-4779-a6f5-2cd0cb35dc30",
   "metadata": {
    "pycharm": {
     "name": "#%%\n"
    }
   },
   "outputs": [],
   "source": [
    "plt.title('Bill Shape')\n",
    "plt.xlabel('Bill length (mm)')\n",
    "plt.ylabel('Bill depth (mm)')\n",
    "\n",
    "colors = ['b', 'g', 'r']\n",
    "\n",
    "for i, label in enumerate(species.categories):\n",
    "    filtered_df = df[df['species'] == label]\n",
    "    species = filtered_df['species'].astype('category').cat\n",
    "    scatter = plt.scatter(\n",
    "        filtered_df['bill_length_mm'], \n",
    "        filtered_df['bill_depth_mm'], \n",
    "        c=colors[i],\n",
    "        label=label\n",
    "    )\n",
    "    \n",
    "plt.legend()\n",
    "plt.grid(b=True, which='both', color='grey', linestyle='--')\n",
    "plt.axis('equal')\n",
    "\n",
    "plt.show()\n",
    "plt.close()"
   ]
  },
  {
   "cell_type": "code",
   "execution_count": null,
   "id": "80a93510-b725-4921-b6c2-34f46075c599",
   "metadata": {
    "pycharm": {
     "name": "#%%\n"
    }
   },
   "outputs": [],
   "source": [
    "# Seaborn"
   ]
  },
  {
   "cell_type": "code",
   "execution_count": null,
   "id": "2c454ff2",
   "metadata": {
    "pycharm": {
     "name": "#%%\n"
    }
   },
   "outputs": [],
   "source": [
    "import seaborn as sns\n",
    "sns.histplot(df['bill_length_mm'])"
   ]
  },
  {
   "cell_type": "code",
   "execution_count": null,
   "id": "6b4001c7",
   "metadata": {
    "pycharm": {
     "name": "#%%\n"
    }
   },
   "outputs": [],
   "source": []
  }
 ],
 "metadata": {
  "kernelspec": {
   "display_name": "Python 3 (ipykernel)",
   "language": "python",
   "name": "python3"
  },
  "language_info": {
   "codemirror_mode": {
    "name": "ipython",
    "version": 3
   },
   "file_extension": ".py",
   "mimetype": "text/x-python",
   "name": "python",
   "nbconvert_exporter": "python",
   "pygments_lexer": "ipython3",
   "version": "3.10.2"
  }
 },
 "nbformat": 4,
 "nbformat_minor": 5
}